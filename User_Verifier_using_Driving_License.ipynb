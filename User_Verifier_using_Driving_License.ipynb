{
  "cells": [
    {
      "cell_type": "code",
      "execution_count": 1,
      "id": "nBoFp_dC1PKp",
      "metadata": {
        "colab": {
          "base_uri": "https://localhost:8080/"
        },
        "id": "nBoFp_dC1PKp",
        "outputId": "ed2fbcbd-62b3-4eed-d1e2-d32a00799041"
      },
      "outputs": [
        {
          "name": "stdout",
          "output_type": "stream",
          "text": [
            "Requirement already satisfied: easyocr in /Users/rohitnarwal/opt/anaconda3/lib/python3.9/site-packages (1.6.2)\n",
            "Requirement already satisfied: torch in /Users/rohitnarwal/opt/anaconda3/lib/python3.9/site-packages (from easyocr) (1.12.1)\n",
            "Requirement already satisfied: pyclipper in /Users/rohitnarwal/opt/anaconda3/lib/python3.9/site-packages (from easyocr) (1.3.0.post3)\n",
            "Requirement already satisfied: PyYAML in /Users/rohitnarwal/opt/anaconda3/lib/python3.9/site-packages (from easyocr) (6.0)\n",
            "Requirement already satisfied: scikit-image in /Users/rohitnarwal/opt/anaconda3/lib/python3.9/site-packages (from easyocr) (0.19.2)\n",
            "Requirement already satisfied: scipy in /Users/rohitnarwal/opt/anaconda3/lib/python3.9/site-packages (from easyocr) (1.7.3)\n",
            "Requirement already satisfied: Shapely in /Users/rohitnarwal/opt/anaconda3/lib/python3.9/site-packages (from easyocr) (1.8.5.post1)\n",
            "Requirement already satisfied: python-bidi in /Users/rohitnarwal/opt/anaconda3/lib/python3.9/site-packages (from easyocr) (0.4.2)\n",
            "Requirement already satisfied: Pillow in /Users/rohitnarwal/opt/anaconda3/lib/python3.9/site-packages (from easyocr) (9.0.1)\n",
            "Requirement already satisfied: torchvision>=0.5 in /Users/rohitnarwal/opt/anaconda3/lib/python3.9/site-packages (from easyocr) (0.13.1)\n",
            "Requirement already satisfied: numpy in /Users/rohitnarwal/opt/anaconda3/lib/python3.9/site-packages (from easyocr) (1.21.5)\n",
            "Requirement already satisfied: ninja in /Users/rohitnarwal/opt/anaconda3/lib/python3.9/site-packages (from easyocr) (1.10.2.4)\n",
            "Requirement already satisfied: opencv-python-headless<=4.5.4.60 in /Users/rohitnarwal/opt/anaconda3/lib/python3.9/site-packages (from easyocr) (4.5.4.60)\n",
            "Requirement already satisfied: typing-extensions in /Users/rohitnarwal/opt/anaconda3/lib/python3.9/site-packages (from torchvision>=0.5->easyocr) (4.1.1)\n",
            "Requirement already satisfied: requests in /Users/rohitnarwal/opt/anaconda3/lib/python3.9/site-packages (from torchvision>=0.5->easyocr) (2.27.1)\n",
            "Requirement already satisfied: six in /Users/rohitnarwal/opt/anaconda3/lib/python3.9/site-packages (from python-bidi->easyocr) (1.16.0)\n",
            "Requirement already satisfied: certifi>=2017.4.17 in /Users/rohitnarwal/opt/anaconda3/lib/python3.9/site-packages (from requests->torchvision>=0.5->easyocr) (2021.10.8)\n",
            "Requirement already satisfied: urllib3<1.27,>=1.21.1 in /Users/rohitnarwal/opt/anaconda3/lib/python3.9/site-packages (from requests->torchvision>=0.5->easyocr) (1.26.9)\n",
            "Requirement already satisfied: idna<4,>=2.5 in /Users/rohitnarwal/opt/anaconda3/lib/python3.9/site-packages (from requests->torchvision>=0.5->easyocr) (3.3)\n",
            "Requirement already satisfied: charset-normalizer~=2.0.0 in /Users/rohitnarwal/opt/anaconda3/lib/python3.9/site-packages (from requests->torchvision>=0.5->easyocr) (2.0.4)\n",
            "Requirement already satisfied: imageio>=2.4.1 in /Users/rohitnarwal/opt/anaconda3/lib/python3.9/site-packages (from scikit-image->easyocr) (2.9.0)\n",
            "Requirement already satisfied: PyWavelets>=1.1.1 in /Users/rohitnarwal/opt/anaconda3/lib/python3.9/site-packages (from scikit-image->easyocr) (1.3.0)\n",
            "Requirement already satisfied: packaging>=20.0 in /Users/rohitnarwal/opt/anaconda3/lib/python3.9/site-packages (from scikit-image->easyocr) (21.3)\n",
            "Requirement already satisfied: tifffile>=2019.7.26 in /Users/rohitnarwal/opt/anaconda3/lib/python3.9/site-packages (from scikit-image->easyocr) (2021.7.2)\n",
            "Requirement already satisfied: networkx>=2.2 in /Users/rohitnarwal/opt/anaconda3/lib/python3.9/site-packages (from scikit-image->easyocr) (2.7.1)\n",
            "Requirement already satisfied: pyparsing!=3.0.5,>=2.0.2 in /Users/rohitnarwal/opt/anaconda3/lib/python3.9/site-packages (from packaging>=20.0->scikit-image->easyocr) (3.0.4)\n",
            "Requirement already satisfied: matplotlib in /Users/rohitnarwal/opt/anaconda3/lib/python3.9/site-packages (3.5.1)\n",
            "Requirement already satisfied: python-dateutil>=2.7 in /Users/rohitnarwal/opt/anaconda3/lib/python3.9/site-packages (from matplotlib) (2.8.2)\n",
            "Requirement already satisfied: numpy>=1.17 in /Users/rohitnarwal/opt/anaconda3/lib/python3.9/site-packages (from matplotlib) (1.21.5)\n",
            "Requirement already satisfied: kiwisolver>=1.0.1 in /Users/rohitnarwal/opt/anaconda3/lib/python3.9/site-packages (from matplotlib) (1.3.2)\n",
            "Requirement already satisfied: packaging>=20.0 in /Users/rohitnarwal/opt/anaconda3/lib/python3.9/site-packages (from matplotlib) (21.3)\n",
            "Requirement already satisfied: pillow>=6.2.0 in /Users/rohitnarwal/opt/anaconda3/lib/python3.9/site-packages (from matplotlib) (9.0.1)\n",
            "Requirement already satisfied: pyparsing>=2.2.1 in /Users/rohitnarwal/opt/anaconda3/lib/python3.9/site-packages (from matplotlib) (3.0.4)\n",
            "Requirement already satisfied: cycler>=0.10 in /Users/rohitnarwal/opt/anaconda3/lib/python3.9/site-packages (from matplotlib) (0.11.0)\n",
            "Requirement already satisfied: fonttools>=4.22.0 in /Users/rohitnarwal/opt/anaconda3/lib/python3.9/site-packages (from matplotlib) (4.25.0)\n",
            "Requirement already satisfied: six>=1.5 in /Users/rohitnarwal/opt/anaconda3/lib/python3.9/site-packages (from python-dateutil>=2.7->matplotlib) (1.16.0)\n"
          ]
        }
      ],
      "source": [
        "!pip3 install easyocr\n",
        "!pip3 install matplotlib"
      ]
    },
    {
      "cell_type": "code",
      "execution_count": 2,
      "id": "S0ZeJKob1PMb",
      "metadata": {
        "id": "S0ZeJKob1PMb"
      },
      "outputs": [],
      "source": [
        "import matplotlib.pyplot as plt\n",
        "import easyocr\n",
        "import numpy as np\n",
        "from IPython.display import Image"
      ]
    },
    {
      "cell_type": "code",
      "execution_count": 1,
      "id": "lOLQJOdK1POD",
      "metadata": {
        "colab": {
          "base_uri": "https://localhost:8080/"
        },
        "id": "lOLQJOdK1POD",
        "outputId": "bbf5f9d2-7ec6-4829-9cf6-a2ae7aadaada"
      },
      "outputs": [
        {
          "ename": "NameError",
          "evalue": "name 'easyocr' is not defined",
          "output_type": "error",
          "traceback": [
            "\u001b[0;31m---------------------------------------------------------------------------\u001b[0m",
            "\u001b[0;31mNameError\u001b[0m                                 Traceback (most recent call last)",
            "\u001b[1;32m/Users/rohitnarwal/Projects/Machine Learning/User Verifier Using Driving license/User_Verifier_using_Driving_License.ipynb Cell 1'\u001b[0m in \u001b[0;36m<cell line: 1>\u001b[0;34m()\u001b[0m\n\u001b[0;32m----> <a href='vscode-notebook-cell:/Users/rohitnarwal/Projects/Machine%20Learning/User%20Verifier%20Using%20Driving%20license/User_Verifier_using_Driving_License.ipynb#ch0000000?line=0'>1</a>\u001b[0m reader \u001b[39m=\u001b[39m easyocr\u001b[39m.\u001b[39mReader([\u001b[39m'\u001b[39m\u001b[39men\u001b[39m\u001b[39m'\u001b[39m])\n",
            "\u001b[0;31mNameError\u001b[0m: name 'easyocr' is not defined"
          ]
        }
      ],
      "source": [
        "reader = easyocr.Reader(['en'])"
      ]
    },
    {
      "cell_type": "code",
      "execution_count": 2,
      "id": "rIk74Dpq1PRY",
      "metadata": {
        "colab": {
          "base_uri": "https://localhost:8080/",
          "height": 109
        },
        "id": "rIk74Dpq1PRY",
        "outputId": "1a58015b-824a-4660-a540-ed4d8546d0b3"
      },
      "outputs": [
        {
          "ename": "ModuleNotFoundError",
          "evalue": "No module named 'google.colab'",
          "output_type": "error",
          "traceback": [
            "\u001b[0;31m---------------------------------------------------------------------------\u001b[0m",
            "\u001b[0;31mModuleNotFoundError\u001b[0m                       Traceback (most recent call last)",
            "\u001b[1;32m/Users/rohitnarwal/Projects/Machine Learning/User Verifier Using Driving license/User_Verifier_using_Driving_License.ipynb Cell 2'\u001b[0m in \u001b[0;36m<cell line: 1>\u001b[0;34m()\u001b[0m\n\u001b[0;32m----> <a href='vscode-notebook-cell:/Users/rohitnarwal/Projects/Machine%20Learning/User%20Verifier%20Using%20Driving%20license/User_Verifier_using_Driving_License.ipynb#ch0000001?line=0'>1</a>\u001b[0m \u001b[39mfrom\u001b[39;00m \u001b[39mgoogle\u001b[39;00m\u001b[39m.\u001b[39;00m\u001b[39mcolab\u001b[39;00m \u001b[39mimport\u001b[39;00m files\n\u001b[1;32m      <a href='vscode-notebook-cell:/Users/rohitnarwal/Projects/Machine%20Learning/User%20Verifier%20Using%20Driving%20license/User_Verifier_using_Driving_License.ipynb#ch0000001?line=1'>2</a>\u001b[0m uploaded \u001b[39m=\u001b[39m files\u001b[39m.\u001b[39mupload()\n",
            "\u001b[0;31mModuleNotFoundError\u001b[0m: No module named 'google.colab'"
          ]
        }
      ],
      "source": [
        "from google.colab import files\n",
        "uploaded = files.upload()"
      ]
    },
    {
      "cell_type": "code",
      "execution_count": 3,
      "id": "lrX60rNN1PPj",
      "metadata": {
        "colab": {
          "base_uri": "https://localhost:8080/",
          "height": 1000
        },
        "id": "lrX60rNN1PPj",
        "outputId": "85118780-f46a-443f-a4e2-2850a22d355f"
      },
      "outputs": [
        {
          "ename": "NameError",
          "evalue": "name 'Image' is not defined",
          "output_type": "error",
          "traceback": [
            "\u001b[0;31m---------------------------------------------------------------------------\u001b[0m",
            "\u001b[0;31mNameError\u001b[0m                                 Traceback (most recent call last)",
            "\u001b[1;32m/Users/rohitnarwal/Projects/Machine Learning/User Verifier Using Driving license/User_Verifier_using_Driving_License.ipynb Cell 3'\u001b[0m in \u001b[0;36m<cell line: 1>\u001b[0;34m()\u001b[0m\n\u001b[0;32m----> <a href='vscode-notebook-cell:/Users/rohitnarwal/Projects/Machine%20Learning/User%20Verifier%20Using%20Driving%20license/User_Verifier_using_Driving_License.ipynb#ch0000002?line=0'>1</a>\u001b[0m Image(\u001b[39m\"\u001b[39m\u001b[39m./Data/Test.jpeg\u001b[39m\u001b[39m\"\u001b[39m)\n",
            "\u001b[0;31mNameError\u001b[0m: name 'Image' is not defined"
          ]
        }
      ],
      "source": [
        "Image(\"./Data/Test.jpeg\")\n",
        "\n"
      ]
    },
    {
      "cell_type": "code",
      "execution_count": 4,
      "id": "ZTUG03e-1PWm",
      "metadata": {
        "colab": {
          "base_uri": "https://localhost:8080/",
          "height": 529
        },
        "id": "ZTUG03e-1PWm",
        "outputId": "c88c92fb-80cc-4ac0-b057-753559dd6381"
      },
      "outputs": [
        {
          "ename": "NameError",
          "evalue": "name 'Image' is not defined",
          "output_type": "error",
          "traceback": [
            "\u001b[0;31m---------------------------------------------------------------------------\u001b[0m",
            "\u001b[0;31mNameError\u001b[0m                                 Traceback (most recent call last)",
            "\u001b[1;32m/Users/rohitnarwal/Projects/Machine Learning/User Verifier Using Driving license/User_Verifier_using_Driving_License.ipynb Cell 4'\u001b[0m in \u001b[0;36m<cell line: 1>\u001b[0;34m()\u001b[0m\n\u001b[0;32m----> <a href='vscode-notebook-cell:/Users/rohitnarwal/Projects/Machine%20Learning/User%20Verifier%20Using%20Driving%20license/User_Verifier_using_Driving_License.ipynb#ch0000003?line=0'>1</a>\u001b[0m Image(\u001b[39m\"\u001b[39m\u001b[39mTest.jpeg\u001b[39m\u001b[39m\"\u001b[39m)\n",
            "\u001b[0;31mNameError\u001b[0m: name 'Image' is not defined"
          ]
        }
      ],
      "source": [
        "Image(\"Test.jpeg\")"
      ]
    },
    {
      "cell_type": "code",
      "execution_count": 5,
      "id": "rZi3ERob1PTR",
      "metadata": {
        "id": "rZi3ERob1PTR"
      },
      "outputs": [
        {
          "ename": "NameError",
          "evalue": "name 'reader' is not defined",
          "output_type": "error",
          "traceback": [
            "\u001b[0;31m---------------------------------------------------------------------------\u001b[0m",
            "\u001b[0;31mNameError\u001b[0m                                 Traceback (most recent call last)",
            "\u001b[1;32m/Users/rohitnarwal/Projects/Machine Learning/User Verifier Using Driving license/User_Verifier_using_Driving_License.ipynb Cell 5'\u001b[0m in \u001b[0;36m<cell line: 1>\u001b[0;34m()\u001b[0m\n\u001b[0;32m----> <a href='vscode-notebook-cell:/Users/rohitnarwal/Projects/Machine%20Learning/User%20Verifier%20Using%20Driving%20license/User_Verifier_using_Driving_License.ipynb#ch0000004?line=0'>1</a>\u001b[0m output \u001b[39m=\u001b[39m reader\u001b[39m.\u001b[39mreadtext(\u001b[39m'\u001b[39m\u001b[39mTest.jpg\u001b[39m\u001b[39m'\u001b[39m)\n",
            "\u001b[0;31mNameError\u001b[0m: name 'reader' is not defined"
          ]
        }
      ],
      "source": [
        "output = reader.readtext('Test.jpg')"
      ]
    },
    {
      "cell_type": "code",
      "execution_count": 6,
      "id": "-ERmbo1S1PVC",
      "metadata": {
        "colab": {
          "base_uri": "https://localhost:8080/"
        },
        "id": "-ERmbo1S1PVC",
        "outputId": "c64334d5-f78b-4359-ff12-178af25976bf"
      },
      "outputs": [
        {
          "ename": "NameError",
          "evalue": "name 'output' is not defined",
          "output_type": "error",
          "traceback": [
            "\u001b[0;31m---------------------------------------------------------------------------\u001b[0m",
            "\u001b[0;31mNameError\u001b[0m                                 Traceback (most recent call last)",
            "\u001b[1;32m/Users/rohitnarwal/Projects/Machine Learning/User Verifier Using Driving license/User_Verifier_using_Driving_License.ipynb Cell 6'\u001b[0m in \u001b[0;36m<cell line: 3>\u001b[0;34m()\u001b[0m\n\u001b[1;32m      <a href='vscode-notebook-cell:/Users/rohitnarwal/Projects/Machine%20Learning/User%20Verifier%20Using%20Driving%20license/User_Verifier_using_Driving_License.ipynb#ch0000005?line=0'>1</a>\u001b[0m \u001b[39m# for vertical\u001b[39;00m\n\u001b[1;32m      <a href='vscode-notebook-cell:/Users/rohitnarwal/Projects/Machine%20Learning/User%20Verifier%20Using%20Driving%20license/User_Verifier_using_Driving_License.ipynb#ch0000005?line=1'>2</a>\u001b[0m \u001b[39mimport\u001b[39;00m \u001b[39mre\u001b[39;00m\n\u001b[0;32m----> <a href='vscode-notebook-cell:/Users/rohitnarwal/Projects/Machine%20Learning/User%20Verifier%20Using%20Driving%20license/User_Verifier_using_Driving_License.ipynb#ch0000005?line=2'>3</a>\u001b[0m \u001b[39mprint\u001b[39m(output[\u001b[39m2\u001b[39m][\u001b[39m1\u001b[39m])\n\u001b[1;32m      <a href='vscode-notebook-cell:/Users/rohitnarwal/Projects/Machine%20Learning/User%20Verifier%20Using%20Driving%20license/User_Verifier_using_Driving_License.ipynb#ch0000005?line=3'>4</a>\u001b[0m \u001b[39m# getting DOB\u001b[39;00m\n\u001b[1;32m      <a href='vscode-notebook-cell:/Users/rohitnarwal/Projects/Machine%20Learning/User%20Verifier%20Using%20Driving%20license/User_Verifier_using_Driving_License.ipynb#ch0000005?line=4'>5</a>\u001b[0m \u001b[39mfor\u001b[39;00m name \u001b[39min\u001b[39;00m \u001b[39mrange\u001b[39m(\u001b[39mlen\u001b[39m(output)):\n",
            "\u001b[0;31mNameError\u001b[0m: name 'output' is not defined"
          ]
        }
      ],
      "source": [
        "# for vertical\n",
        "import re\n",
        "print(output[2][1])\n",
        "# getting DOB\n",
        "for name in range(len(output)):\n",
        "  print(name, output[name][1])\n",
        "  if len(re.findall(r\"../../.*\", output[name][1].lower()))==1:\n",
        "    print(name, output[name][1])\n",
        "    break\n",
        "# getting state\n",
        "for name in range(len(output)):\n",
        "  if len(re.findall(r\".*gia\", output[name][1].lower()))==1:\n",
        "    print(name, output[name][1])"
      ]
    },
    {
      "cell_type": "code",
      "execution_count": 27,
      "id": "s5T6tLzW1Pag",
      "metadata": {
        "id": "s5T6tLzW1Pag"
      },
      "outputs": [],
      "source": [
        "output2 = reader.readtext('Test4.jpeg')"
      ]
    },
    {
      "cell_type": "code",
      "execution_count": 36,
      "id": "Jg1jwh-a1PYt",
      "metadata": {
        "colab": {
          "base_uri": "https://localhost:8080/"
        },
        "id": "Jg1jwh-a1PYt",
        "outputId": "68ae0b98-79e5-4b07-b68a-59f9746daf34"
      },
      "outputs": [
        {
          "name": "stdout",
          "output_type": "stream",
          "text": [
            "10 09/02/1999\n",
            "1 GEORGIA\n",
            "6 \n",
            "8 070468581\n",
            "20 \n"
          ]
        }
      ],
      "source": [
        "# for horizontal\n",
        "import re\n",
        "# getting DOB\n",
        "for name in range(len(output2)):\n",
        "  if len(re.findall(r\"../../.*\", output2[name][1].lower()))==1:\n",
        "    print(name, output2[name][1])\n",
        "    break\n",
        "# getting state\n",
        "for name in range(len(output2)):\n",
        "  if len(re.findall(r\".*gia\", output2[name][1].lower()))==1:\n",
        "    print(name, output2[name][1])\n",
        "# getting id number\n",
        "for name in range(len(output2)):\n",
        "  if len(re.findall(r\".*no\", output2[name][1].lower()))==1:\n",
        "    print(name, output2[name][1][9:])"
      ]
    },
    {
      "cell_type": "code",
      "execution_count": null,
      "id": "GOppPehe1PcE",
      "metadata": {
        "id": "GOppPehe1PcE"
      },
      "outputs": [],
      "source": []
    },
    {
      "cell_type": "code",
      "execution_count": null,
      "id": "0TpgAIiT1Pd4",
      "metadata": {
        "id": "0TpgAIiT1Pd4"
      },
      "outputs": [],
      "source": []
    },
    {
      "cell_type": "code",
      "execution_count": null,
      "id": "WIbiee401Pf-",
      "metadata": {
        "id": "WIbiee401Pf-"
      },
      "outputs": [],
      "source": []
    },
    {
      "cell_type": "code",
      "execution_count": null,
      "id": "goHABwU51Phy",
      "metadata": {
        "id": "goHABwU51Phy"
      },
      "outputs": [],
      "source": []
    },
    {
      "cell_type": "code",
      "execution_count": null,
      "id": "kMqsYEn5X6lx",
      "metadata": {
        "id": "kMqsYEn5X6lx"
      },
      "outputs": [],
      "source": []
    }
  ],
  "metadata": {
    "colab": {
      "collapsed_sections": [],
      "provenance": []
    },
    "kernelspec": {
      "display_name": "Python 3",
      "name": "python3"
    },
    "language_info": {
      "codemirror_mode": {
        "name": "ipython",
        "version": 3
      },
      "file_extension": ".py",
      "mimetype": "text/x-python",
      "name": "python",
      "nbconvert_exporter": "python",
      "pygments_lexer": "ipython3",
      "version": "3.9.12"
    }
  },
  "nbformat": 4,
  "nbformat_minor": 5
}
